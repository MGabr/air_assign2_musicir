{
 "cells": [
  {
   "cell_type": "markdown",
   "metadata": {},
   "source": [
    "<center>\n",
    "<h1>188.980 Advanced Information Retrieval</h1>\n",
    "<h2>Assignment 2 - Music IR</h2>\n",
    "</center>"
   ]
  },
  {
   "cell_type": "markdown",
   "metadata": {
    "run_control": {
     "marked": false
    }
   },
   "source": [
    "**Group Number: 01**\n",
    "\n",
    "* **Group members:**\n",
    " * **Full Name: Markus Gabriel**\n",
    "   * *Matrikelnummer: 01326657*\n",
    "   * *Studienkennzahl: E 066 937*\n",
    " * **Full Name: Johannes Vass**\n",
    "   * *Matrikelnummer:*\n",
    "   * *Studienkennzahl:*"
   ]
  },
  {
   "cell_type": "markdown",
   "metadata": {},
   "source": [
    "# Introduction\n",
    "\n",
    "The aim of this exercise is to get insights into music information retrieval practices. You will follow a content based approach which is based on the idea that the semantically relevant information is provided in the audio itself. Thus the aim is to identify and extract this information in a meaningful representation. "
   ]
  },
  {
   "cell_type": "code",
   "execution_count": 1,
   "metadata": {
    "ExecuteTime": {
     "end_time": "2017-05-15T23:32:43.591000",
     "start_time": "2017-05-15T23:32:43.496000"
    }
   },
   "outputs": [],
   "source": [
    "%load_ext autoreload\n",
    "%autoreload 2\n",
    "\n",
    "# plotting functions\n",
    "%matplotlib inline\n",
    "import matplotlib\n",
    "import matplotlib.pyplot as plt\n",
    "\n",
    "import os              # access to operating system functions\n",
    "import glob            # reg-ex based file-iterator\n",
    "\n",
    "# scientific computing\n",
    "import numpy as np     # numerical computing\n",
    "import pandas as pd    # powerful data processing library\n",
    "\n",
    "# audio feature extraction\n",
    "import librosa\n",
    "from rp_extract import rp_extract\n",
    "\n",
    "# machine learning\n",
    "from sklearn.preprocessing import LabelEncoder, StandardScaler\n",
    "from sklearn.model_selection import StratifiedKFold\n",
    "from sklearn.svm import LinearSVC\n",
    "from sklearn.externals import joblib\n",
    "\n",
    "from utility_functions import show_classification_results, plot_confusion_matrix, show_query_results\n",
    "\n",
    "# misc\n",
    "import itertools\n",
    "import progressbar"
   ]
  },
  {
   "cell_type": "markdown",
   "metadata": {},
   "source": [
    "# Prepare your data\n",
    "\n",
    "First, please download the specified data-set, extract it locally to your hardisk and specify the full-path to the extracted directory to the *AUDIO_COLLECTION_PATH* variable below"
   ]
  },
  {
   "cell_type": "code",
   "execution_count": 2,
   "metadata": {
    "ExecuteTime": {
     "end_time": "2017-05-15T23:13:48.264000",
     "start_time": "2017-05-15T23:13:48.186000"
    },
    "collapsed": true
   },
   "outputs": [],
   "source": [
    "AUDIO_COLLECTION_PATH = \"genres\""
   ]
  },
  {
   "cell_type": "markdown",
   "metadata": {},
   "source": [
    "**Prepare file-lists and ground-truth labels**\n",
    "\n",
    "Define the collection of files to process and the corresponding class labels which is also known as *ground truth*.\n",
    "\n",
    "* create a list of filenames and a list of corresponding labels\n",
    "  * e.g. use [glob](https://docs.python.org/2/library/glob.html) to iterate over the class directories in the music collection\n",
    "  * use the names of the subdirectories as label names\n",
    "  * iterate through all class directories and get all filenames with the extension '.mp3'\n",
    "  * store the filename and its corresponding label in the two lists *filenames* and *labels*\n",
    "  \n",
    "Take care that both lists are synchronously aligned and that each label corresponds to the right filename."
   ]
  },
  {
   "cell_type": "code",
   "execution_count": 3,
   "metadata": {
    "ExecuteTime": {
     "end_time": "2017-05-15T23:13:48.642000",
     "start_time": "2017-05-15T23:13:48.568000"
    },
    "collapsed": true
   },
   "outputs": [],
   "source": [
    "# fill these lists with values\n",
    "filenames = glob.glob(AUDIO_COLLECTION_PATH + \"/*/*.au\")\n",
    "# filenames = glob.glob(AUDIO_COLLECTION_PATH + \"/*/*0000*.au\")\n",
    "labels    = list(map(lambda filepath: os.path.dirname(os.path.relpath(filepath, AUDIO_COLLECTION_PATH)), filenames))\n",
    "assert len(filenames) == len(labels)\n",
    "assert len(filenames) > 0"
   ]
  },
  {
   "cell_type": "markdown",
   "metadata": {},
   "source": [
    "# Music Feature Extraction\n",
    "\n",
    "*Feature extraction* is a crucial part of content-based approaches. The goal is to transform and reduce the information provided by the digital audio signal into a set of semantically descriptive numbers. A typical CD quality mainstream radio track has an average length of three minutes. This means, that song is digitally described in Pulse-code Modulation (PCM) by 15.9 million numbers (3 [minutes] x 60 [seconds] x 2 [stereo channels] x 44100 [sampling rate]). Using CD-quality 16bit encoding this information requires 30.3MB of memory. Besides music specific reasons, the computational obstacles concerned with processing of huge music collections make raw audio processing a suboptimal solution. Feature design and implementation tries to overcome technological obstacles of digital audio and to extract essential music properties that can be used to analyze, compare or classify music. \n",
    "\n",
    "You will use the common music features are descriptors for timbre \\cite{logan2000mel}, rhythm \\cite{lidy10_ethnic} or general spectral properties \\cite{tzanetakis2000marsyas,lartillot2007matlab}."
   ]
  },
  {
   "cell_type": "markdown",
   "metadata": {},
   "source": [
    "\n",
    "\n",
    "* iterate over all audio files\n",
    "    1. load audio data using the [librosa.core.load](http://librosa.github.io/librosa/generated/librosa.core.load.html) function. The feature extractors you will use expect a mono signal as input, so take care to appropriately load or convert the audio data.<br><br>\n",
    "    2. extract music features<br><br>\n",
    "        2.1. [Mel-frequency cepstral coefficients (MFCC)](http://librosa.github.io/librosa/generated/librosa.feature.mfcc.html) (librosa): extract 12 coefficients using a FFT-window size of 1024 samples with 50% overlap (this corresponds to a hop-length of 512 samples). To correctly calculate the coefficients the samplerate of the audio file has to be provided.<br>\n",
    "         2.2. [Pitch-classes / Chroma](http://librosa.github.io/librosa/generated/librosa.feature.chroma_stft.html) (librosa): extract the chroma features using a FFT-window size of 1024 samples with 50% overlap, similar to the MFCCs. Also supply the correct samplerate.<br>\n",
    "         2.3. The features extracted using the libros-library are provided on a frame-level. They are calculated for each FFT-window and thus the results are lists of feature vectors. The machine learning algorithms you will be using expect a single-vector per instance. Thus, the extracted feature vectors need to be aggregated into a single-vector representation. You will be using the simple approach of just calculating their mean and standard-deviations. Perform the following operations for the *MFCC* and *chroma* features:\n",
    "      * use the numpy functions *mean* and *std* to calculate the statistical moments of the extracted features along the appropriate axis.\n",
    "      * use the numpy function *concatenate* to concatenate the statistical moments into a single vector\n",
    "  \n",
    "    2.4. *Statistical Spectrum Descriptors* and *Rhythm Patterns*: use the following code to extract the psychoaccoustic feature-sets. The function returns a dictionary of extracted features. The Statistical Spectrum Descriptors are stored using the key 'ssd' and the Rhythm Patterns using the key 'rp'. The features are already single vectors so no post-processing is required.\n",
    "\n",
    "                rp_features = rp_extract(wave_data, \n",
    "                                         samplerate, \n",
    "                                         extract_ssd = True, \n",
    "                                         extract_rp  = True,\n",
    "                                         skip_leadin_fadeout = 0, \n",
    "                                         verbose     = False)\n",
    "\n",
    "    3. append the extracted features to the dictionary embedded lists which are provided above.<br><br>\n",
    "    4. finally iterate over the dictionary keys and convert the lists of extracted feature-vectors into feature-spaces by converting them into numpy arrays using the numpy *asarray* function.\n",
    "\n",
    "  \n",
    "The feature extraction will take about 30 minutes"
   ]
  },
  {
   "cell_type": "code",
   "execution_count": 4,
   "metadata": {
    "collapsed": true
   },
   "outputs": [],
   "source": [
    "FEATURE_NAMES = [\"mfcc\", \"chroma\", \"ssd\", \"rp\"]\n",
    "\n",
    "# Fill these lists with values\n",
    "audio_features = {fname: [] for fname in FEATURE_NAMES}\n",
    "audio_features[\"filename\"] = []"
   ]
  },
  {
   "cell_type": "code",
   "execution_count": 9,
   "metadata": {
    "ExecuteTime": {
     "end_time": "2017-05-15T22:57:30.406000",
     "start_time": "2017-05-15T22:57:30.398000"
    }
   },
   "outputs": [
    {
     "name": "stderr",
     "output_type": "stream",
     "text": [
      "N/A% (0 of 1000) |                       | Elapsed Time: 0:00:00 ETA:  --:--:--/usr/local/lib/python3.6/site-packages/librosa/util/utils.py:1725: FutureWarning: Conversion of the second argument of issubdtype from `float` to `np.floating` is deprecated. In future, it will be treated as `np.float64 == np.dtype(float).type`.\n",
      "  if np.issubdtype(x.dtype, float) or np.issubdtype(x.dtype, complex):\n",
      "100% (1000 of 1000) |####################| Elapsed Time: 0:15:11 Time:  0:15:11"
     ]
    }
   ],
   "source": [
    "# progressbar visualization widget to estimate processing time\n",
    "pbar = progressbar.ProgressBar()\n",
    "\n",
    "# iterate over all files of the collection\n",
    "for audio_filename in pbar(filenames):\n",
    "    \n",
    "    # 1. load audio\n",
    "    audio, sr = librosa.core.load(audio_filename)\n",
    "    \n",
    "    # 2. extract features\n",
    "    # - 2.1. mfcc\n",
    "    mfcc = librosa.feature.mfcc(y=audio, sr=sr, n_mfcc=12, n_fft=1024, hop_length=512)\n",
    "    \n",
    "    # - 2.2. chroma\n",
    "    chroma = librosa.feature.chroma_stft(y=audio, n_fft=1024, hop_length=512)\n",
    "    \n",
    "    # -- 2.3. aggregate frame based mfcc and chroma vectors into single feature vectors\n",
    "    mean = np.mean(mfcc, axis=1)\n",
    "    std = np.std(mfcc, axis=1)\n",
    "    mfcc_stats = np.concatenate([mean, std])\n",
    "    \n",
    "    mean = np.mean(chroma, axis=1)\n",
    "    std = np.std(chroma, axis=1)\n",
    "    chroma_stats = np.concatenate([mean, std])\n",
    "    \n",
    "    # - 2.4. ssd, rp\n",
    "    rp_features = rp_extract(audio,\n",
    "                             sr, \n",
    "                             extract_ssd = True, \n",
    "                             extract_rp  = True,\n",
    "                             skip_leadin_fadeout = 0, \n",
    "                             verbose     = False)\n",
    "    \n",
    "    ssd = rp_features['ssd']\n",
    "    rp = rp_features['rp']\n",
    "    \n",
    "    # 3. append to provided lists\n",
    "    audio_features[\"mfcc\"].append(mfcc_stats)\n",
    "    audio_features[\"chroma\"].append(chroma_stats)\n",
    "    audio_features[\"ssd\"].append(ssd)\n",
    "    audio_features[\"rp\"].append(rp)\n",
    "    audio_features[\"filename\"].append(audio_filename)\n",
    "    \n",
    "# 4. convert lists of vectors to numpy arrays\n",
    "for key, value_list in audio_features.items():\n",
    "    audio_features[key] = np.asarray(value_list)"
   ]
  },
  {
   "cell_type": "code",
   "execution_count": 10,
   "metadata": {},
   "outputs": [
    {
     "data": {
      "text/plain": [
       "['audio_features.dump']"
      ]
     },
     "execution_count": 10,
     "metadata": {},
     "output_type": "execute_result"
    }
   ],
   "source": [
    "# dump the extracted audio features (because they are the most timeconsuming part of whole process)\n",
    "joblib.dump(audio_features, \"audio_features.dump\")"
   ]
  },
  {
   "cell_type": "code",
   "execution_count": 5,
   "metadata": {
    "collapsed": true
   },
   "outputs": [],
   "source": [
    "# load the features from the dumped file\n",
    "audio_features = joblib.load(\"audio_features.dump\")"
   ]
  },
  {
   "cell_type": "markdown",
   "metadata": {},
   "source": [
    "# Music Classification\n",
    "\n",
    "Music Genre Recognition is a well researched Music Information Retrieval task. As for many other audio-based MIR tasks the algorithmic design consists of two parts. First, audio-content descriptors are extracted from the audio signal. In a second step these features are used to train machine learning based models, using popular supervised classifiers including k-nearest neighbors (k-NN), Gaussian mixture models (GMM) or Support Vector Machines (SVM)."
   ]
  },
  {
   "cell_type": "markdown",
   "metadata": {},
   "source": [
    "## Data-preprocessing\n",
    "\n",
    "The ground-truth labels are provided using their class names, in our case they are names of music genres, and thus are string values. The applied machine-learning algorithms expect numerical class labels. Thus, you are required to pre-process your data:\n",
    "\n",
    " * use sklearn's *LabelEncoder* to convert string- into numeric-labels\n",
    " * fit the encoder on the provided genre labels\n",
    " * create a list called *encoded_labels* using the *transform* method of the encoder"
   ]
  },
  {
   "cell_type": "code",
   "execution_count": 6,
   "metadata": {
    "ExecuteTime": {
     "end_time": "2017-05-15T23:40:57.709000",
     "start_time": "2017-05-15T23:40:57.706000"
    }
   },
   "outputs": [
    {
     "name": "stdout",
     "output_type": "stream",
     "text": [
      "1000\n"
     ]
    }
   ],
   "source": [
    "# add your code here\n",
    "label_encoder = LabelEncoder()\n",
    "encoded_labels = label_encoder.fit_transform(labels)\n",
    "print(encoded_labels.size)"
   ]
  },
  {
   "cell_type": "markdown",
   "metadata": {},
   "source": [
    "## Classification Experiments\n",
    "\n",
    "Iterate over all feature-sets. For each previously extracted feature perform the following steps:\n",
    "\n",
    "1. A common way to evaluate the performance of a machine learning approach is to perform a cross-validation. For this exercise you will be using a stratified K-Fold cross-validation. A K-Fold cross-validation splits the data-set into K equally-sized parts and uses K-1 parts to train the classifier and the remaining part to test it. The stratification asserts that the frequency distribution of the class labels within the folds corresponds to the original distribution of the ground-truth assignment. As a first step create a shuffled *StratifiedKFold* cross-validation object which generated 10 *splits* (10-fold cross-validation).<br><br>\n",
    "\n",
    "2. For each train/test-split apply the following commands:\n",
    "\n",
    "    2.1. Pre-process the feature-space: audio features are usually abstract content descriptors and have varying value ranges. Many machine learning algorithms expect all features to have the same value ranges. Thus, varying ranges will have a bias towards features with high value ranges. You will use Zero-Mean Unit-Variance Normalization - also referred to as Z-Score normalization or standardization, which subtracts the mean value from each feature and divides it by its variance. An important fact to note here, is that the parameters of the scaler are part of the trained classification model. They have to be assessed from the training-split, because the test-split is supposed to be unseen data. Use the sklearn *StandardScaler* and process the feature-data similar to the *LabelEncoder* by fitting the scaler using only the training-instances. After fitting the scaler transform the feature vectors of the training-split (but do not overwrite the original features!).<br>\n",
    "    2.2. You will use the Support Vector Machine (SVM) classifier to train a model for automatic genre prediction. The sklearn recently made some efforts to standardize their APIs. Thus, also the SVM classifier adheres to the same pattern. First, create a *LinearSVC* classifier using its default parameters. Then, train the SVM using the *fit* method by supplying the train-split of the feature vecotrs and the ground-truth labels.<br>\n",
    "    2.3. similar to 2.1. standardize the test-split using the already fitted scaler.<br>\n",
    "    2.4. use the fitted SVM to predict the scaled test-split feature vectors using its *predict* method.<br>\n",
    "    2.5. for each fold, store the true and predicted numeric labels.<br><br>\n",
    "    \n",
    "3. for each feature-set, store the true and predicted labels of the evaluation back to the provided dictionary.\n"
   ]
  },
  {
   "cell_type": "code",
   "execution_count": null,
   "metadata": {
    "collapsed": true
   },
   "outputs": [],
   "source": [
    "# fill this dictionary with values\n",
    "classification_results = {}\n",
    "\n",
    "pbar = progressbar.ProgressBar()\n",
    "\n",
    "for feature_name in pbar(FEATURE_NAMES):\n",
    "    \n",
    "    X = audio_features[feature_name]\n",
    "    y = encoded_labels\n",
    "    \n",
    "    # 1. crossvalidation\n",
    "    skf = StratifiedKFold(n_splits=10, shuffle=True, random_state=1)\n",
    "    \n",
    "    y_true = []\n",
    "    y_pred = []\n",
    "    \n",
    "    # 2. run cross-validation\n",
    "    for train_index, test_index in skf.split(X, y):\n",
    "        X_train, X_test = X[train_index], X[test_index]\n",
    "        y_train, y_test = y[train_index], y[test_index]\n",
    "        \n",
    "        # --- TRAIN ---\n",
    "        \n",
    "        # 2.1. fit scaler\n",
    "        # scale training-partition of features\n",
    "        scaler = StandardScaler()\n",
    "        X_train = scaler.fit_transform(X_train)\n",
    "        \n",
    "        # 2.2. create classifier\n",
    "        clf = LinearSVC(random_state=1)\n",
    "        clf.fit(X_train, y_train)\n",
    "    \n",
    "        # fit classifier with scaled training-set\n",
    "        \n",
    "        # --- TEST ---\n",
    "        \n",
    "        # 2.3. scale test-partition of features\n",
    "        X_test = scaler.transform(X_test)\n",
    "        \n",
    "        # 2.4. use fitted classifier to predict labels of test-partition\n",
    "        y_hat = clf.predict(X_test)\n",
    "        \n",
    "        # 2.5. store the true and predicted labels\n",
    "        y_true.append(y_test)\n",
    "        y_pred.append(y_hat)\n",
    "        \n",
    "        \n",
    "    # 3. store the classification results back to the dictionary\n",
    "    classification_results[feature_name] = [np.concatenate(y_true), np.concatenate(y_pred)]\n",
    "    "
   ]
  },
  {
   "cell_type": "markdown",
   "metadata": {},
   "source": [
    "**Plot the classification result table**\n",
    "\n",
    "If you have supplied the results in the requested format, you should be able to use our provided function to plot the classification results-table."
   ]
  },
  {
   "cell_type": "code",
   "execution_count": 9,
   "metadata": {
    "ExecuteTime": {
     "end_time": "2017-05-15T23:32:51.486000",
     "start_time": "2017-05-15T23:32:51.386000"
    }
   },
   "outputs": [
    {
     "name": "stdout",
     "output_type": "stream",
     "text": [
      "dict_keys(['rp', 'ssd', 'chroma', 'mfcc'])\n"
     ]
    },
    {
     "data": {
      "text/html": [
       "<table border=\"1\" class=\"dataframe\">\n",
       "  <thead>\n",
       "    <tr style=\"text-align: right;\">\n",
       "      <th>Featureset</th>\n",
       "      <th>Accuracy</th>\n",
       "      <th>Precision</th>\n",
       "      <th>Recall</th>\n",
       "      <th>F1-Score</th>\n",
       "    </tr>\n",
       "  </thead>\n",
       "  <tbody>\n",
       "    <tr>\n",
       "      <td>ssd</td>\n",
       "      <td>0.725</td>\n",
       "      <td>0.720782</td>\n",
       "      <td>0.725</td>\n",
       "      <td>0.721487</td>\n",
       "    </tr>\n",
       "    <tr>\n",
       "      <td>mfcc</td>\n",
       "      <td>0.626</td>\n",
       "      <td>0.613120</td>\n",
       "      <td>0.626</td>\n",
       "      <td>0.611763</td>\n",
       "    </tr>\n",
       "    <tr>\n",
       "      <td>rp</td>\n",
       "      <td>0.477</td>\n",
       "      <td>0.491892</td>\n",
       "      <td>0.477</td>\n",
       "      <td>0.472721</td>\n",
       "    </tr>\n",
       "    <tr>\n",
       "      <td>chroma</td>\n",
       "      <td>0.380</td>\n",
       "      <td>0.349214</td>\n",
       "      <td>0.380</td>\n",
       "      <td>0.346542</td>\n",
       "    </tr>\n",
       "  </tbody>\n",
       "</table>"
      ],
      "text/plain": [
       "<IPython.core.display.HTML object>"
      ]
     },
     "execution_count": 9,
     "metadata": {},
     "output_type": "execute_result"
    }
   ],
   "source": [
    "print(classification_results.keys())\n",
    "show_classification_results(classification_results)"
   ]
  },
  {
   "cell_type": "markdown",
   "metadata": {},
   "source": [
    "## Feature-set combinations\n",
    "\n",
    "Music is a complex concept which cannot be described easily by a single property. Music is not just rhythm or a certain timbre/sound. It is more a mixture of all of it. This also applies to music features. Different combinations of features perform better than others, but there is no rule of thumbs which ones. This has to be evaluated according the underlying dataset, the applied classifier, the normalization method, etc. All these parameters affect the performance of the classification model.\n",
    "\n",
    "For this exercise, extend the previously developed classification approach by a feature combination component. Because the dataset is small, it is feasable to evaluate all possible feature-set combinations. Execute to the following cell to calculate all combinations:"
   ]
  },
  {
   "cell_type": "code",
   "execution_count": 7,
   "metadata": {
    "ExecuteTime": {
     "end_time": "2017-05-15T23:33:19.391000",
     "start_time": "2017-05-15T23:33:19.316000"
    }
   },
   "outputs": [
    {
     "data": {
      "text/plain": [
       "[('mfcc',),\n",
       " ('chroma',),\n",
       " ('ssd',),\n",
       " ('rp',),\n",
       " ('mfcc', 'chroma'),\n",
       " ('mfcc', 'ssd'),\n",
       " ('mfcc', 'rp'),\n",
       " ('chroma', 'ssd'),\n",
       " ('chroma', 'rp'),\n",
       " ('ssd', 'rp'),\n",
       " ('mfcc', 'chroma', 'ssd'),\n",
       " ('mfcc', 'chroma', 'rp'),\n",
       " ('mfcc', 'ssd', 'rp'),\n",
       " ('chroma', 'ssd', 'rp')]"
      ]
     },
     "execution_count": 7,
     "metadata": {},
     "output_type": "execute_result"
    }
   ],
   "source": [
    "combinations = []\n",
    "\n",
    "for i in range(1,len(FEATURE_NAMES)):\n",
    "    combinations.extend(itertools.combinations(FEATURE_NAMES, i))\n",
    "    \n",
    "combinations"
   ]
  },
  {
   "cell_type": "markdown",
   "metadata": {},
   "source": [
    "Combining features is also referred to as fusion and two common approaches, early fusion and late fusion, exist. You will be using an early fusion approach to extend the classification experiment. To do so, either copy and paste the code of the evaluation-loop into a new cell, or adapt the code of the existing cell:\n",
    "\n",
    "* in the for loop, change the iterable from *audio_features.keys()* to *combinations*. You are also adviced to change the variable name *feature_name* to reflect the circumstance that the variable contains now a list of feature names.\n",
    "* implement the early fusion approach. This is accomplished by appending one feature vector to the other to create a combined feature vector. This can be solved by combining the feature-spaces. Use the numpy function *concatenate* to concatenate the feature combinations along feature axis. This can be done before the cross-validation loop or within. \n",
    "* be sure to reset the *classification_results* dictionary before running the evaluation again."
   ]
  },
  {
   "cell_type": "code",
   "execution_count": 29,
   "metadata": {},
   "outputs": [
    {
     "name": "stderr",
     "output_type": "stream",
     "text": [
      "100% (14 of 14) |########################| Elapsed Time: 0:25:39 Time:  0:25:39"
     ]
    }
   ],
   "source": [
    "# fill this dictionary with values\n",
    "classification_results = {}\n",
    "\n",
    "pbar = progressbar.ProgressBar()\n",
    "\n",
    "for feature_names in pbar(combinations):\n",
    "    \n",
    "    X = np.concatenate([audio_features[feature_name] for feature_name in feature_names], axis=1)\n",
    "    y = encoded_labels\n",
    "    \n",
    "    feature_name = \"+\".join(feature_names)\n",
    "    \n",
    "    # 1. crossvalidation\n",
    "    skf = StratifiedKFold(n_splits=10, shuffle=True, random_state=1)\n",
    "    \n",
    "    y_true = []\n",
    "    y_pred = []\n",
    "    \n",
    "    # 2. run cross-validation\n",
    "    for train_index, test_index in skf.split(X, y):\n",
    "        X_train, X_test = X[train_index], X[test_index]\n",
    "        y_train, y_test = y[train_index], y[test_index]\n",
    "        \n",
    "        # --- TRAIN ---\n",
    "        \n",
    "        # 2.1. fit scaler\n",
    "        # scale training-partition of features\n",
    "        scaler = StandardScaler()\n",
    "        X_train = scaler.fit_transform(X_train)\n",
    "        \n",
    "        # 2.2. create classifier\n",
    "        clf = LinearSVC(random_state=1)\n",
    "        clf.fit(X_train, y_train)\n",
    "    \n",
    "        # fit classifier with scaled training-set\n",
    "        \n",
    "        # --- TEST ---\n",
    "        \n",
    "        # 2.3. scale test-partition of features\n",
    "        X_test = scaler.transform(X_test)\n",
    "        \n",
    "        # 2.4. use fitted classifier to predict labels of test-partition\n",
    "        y_hat = clf.predict(X_test)\n",
    "        \n",
    "        # 2.5. store the true and predicted labels\n",
    "        y_true.append(y_test)\n",
    "        y_pred.append(y_hat)\n",
    "        \n",
    "        \n",
    "    # 3. store the classification results back to the dictionary\n",
    "    classification_results[feature_name] = [np.concatenate(y_true), np.concatenate(y_pred)]    "
   ]
  },
  {
   "cell_type": "code",
   "execution_count": 32,
   "metadata": {},
   "outputs": [
    {
     "data": {
      "text/plain": [
       "['classification_results.dump']"
      ]
     },
     "execution_count": 32,
     "metadata": {},
     "output_type": "execute_result"
    }
   ],
   "source": [
    "# dump classification results \n",
    "joblib.dump(classification_results, \"classification_results.dump\")"
   ]
  },
  {
   "cell_type": "code",
   "execution_count": 8,
   "metadata": {
    "collapsed": true
   },
   "outputs": [],
   "source": [
    "# load the classification results from the dump file again\n",
    "classification_results = joblib.load(\"classification_results.dump\")"
   ]
  },
  {
   "cell_type": "markdown",
   "metadata": {},
   "source": [
    "**Plot the classification result table and confusion matrix**\n",
    "\n",
    "If you have supplied the results in the requested format, you should be able to use our provided function to plot the classification results-table and the confusion matrix. A confusion matrix is a convenient tool to assess class-level model performance. It shows which classes are mutually confused. This can help to tune the parameters of the model or to choose different features/combinations.\n",
    "\n",
    "To estimate the performance of the evaluated models:\n",
    "* plot four result tables and confusion matrices including the top-performing result.\n",
    "* write a paragraph where you summarize the conclusions of the classification experiments\n",
    "  * which feature-set/feature-set-combinations perform best?\n",
    "  * for which classes are they performing best?\n",
    "  * which classes are confused most?\n",
    "  * what does this tell about the audio features?"
   ]
  },
  {
   "cell_type": "code",
   "execution_count": 9,
   "metadata": {
    "ExecuteTime": {
     "end_time": "2017-05-15T23:33:34.990000",
     "start_time": "2017-05-15T23:33:34.849000"
    }
   },
   "outputs": [
    {
     "data": {
      "text/html": [
       "<table border=\"1\" class=\"dataframe\">\n",
       "  <thead>\n",
       "    <tr style=\"text-align: right;\">\n",
       "      <th>Featureset</th>\n",
       "      <th>Accuracy</th>\n",
       "      <th>Precision</th>\n",
       "      <th>Recall</th>\n",
       "      <th>F1-Score</th>\n",
       "    </tr>\n",
       "  </thead>\n",
       "  <tbody>\n",
       "    <tr>\n",
       "      <td>mfcc+ssd</td>\n",
       "      <td>0.740</td>\n",
       "      <td>0.737442</td>\n",
       "      <td>0.740</td>\n",
       "      <td>0.737014</td>\n",
       "    </tr>\n",
       "    <tr>\n",
       "      <td>ssd</td>\n",
       "      <td>0.725</td>\n",
       "      <td>0.720443</td>\n",
       "      <td>0.725</td>\n",
       "      <td>0.721334</td>\n",
       "    </tr>\n",
       "    <tr>\n",
       "      <td>mfcc+chroma+ssd</td>\n",
       "      <td>0.715</td>\n",
       "      <td>0.713256</td>\n",
       "      <td>0.715</td>\n",
       "      <td>0.713364</td>\n",
       "    </tr>\n",
       "    <tr>\n",
       "      <td>chroma+ssd</td>\n",
       "      <td>0.714</td>\n",
       "      <td>0.708795</td>\n",
       "      <td>0.714</td>\n",
       "      <td>0.710250</td>\n",
       "    </tr>\n",
       "    <tr>\n",
       "      <td>mfcc+ssd+rp</td>\n",
       "      <td>0.637</td>\n",
       "      <td>0.639280</td>\n",
       "      <td>0.637</td>\n",
       "      <td>0.632566</td>\n",
       "    </tr>\n",
       "    <tr>\n",
       "      <td>mfcc+chroma</td>\n",
       "      <td>0.635</td>\n",
       "      <td>0.622228</td>\n",
       "      <td>0.635</td>\n",
       "      <td>0.625429</td>\n",
       "    </tr>\n",
       "    <tr>\n",
       "      <td>mfcc</td>\n",
       "      <td>0.627</td>\n",
       "      <td>0.614332</td>\n",
       "      <td>0.627</td>\n",
       "      <td>0.612838</td>\n",
       "    </tr>\n",
       "    <tr>\n",
       "      <td>chroma+ssd+rp</td>\n",
       "      <td>0.622</td>\n",
       "      <td>0.623039</td>\n",
       "      <td>0.622</td>\n",
       "      <td>0.616579</td>\n",
       "    </tr>\n",
       "    <tr>\n",
       "      <td>mfcc+chroma+rp</td>\n",
       "      <td>0.604</td>\n",
       "      <td>0.602639</td>\n",
       "      <td>0.604</td>\n",
       "      <td>0.597980</td>\n",
       "    </tr>\n",
       "    <tr>\n",
       "      <td>ssd+rp</td>\n",
       "      <td>0.601</td>\n",
       "      <td>0.606995</td>\n",
       "      <td>0.601</td>\n",
       "      <td>0.595864</td>\n",
       "    </tr>\n",
       "    <tr>\n",
       "      <td>mfcc+rp</td>\n",
       "      <td>0.577</td>\n",
       "      <td>0.578953</td>\n",
       "      <td>0.577</td>\n",
       "      <td>0.571294</td>\n",
       "    </tr>\n",
       "    <tr>\n",
       "      <td>chroma+rp</td>\n",
       "      <td>0.514</td>\n",
       "      <td>0.520593</td>\n",
       "      <td>0.514</td>\n",
       "      <td>0.508227</td>\n",
       "    </tr>\n",
       "    <tr>\n",
       "      <td>rp</td>\n",
       "      <td>0.481</td>\n",
       "      <td>0.493616</td>\n",
       "      <td>0.481</td>\n",
       "      <td>0.476545</td>\n",
       "    </tr>\n",
       "    <tr>\n",
       "      <td>chroma</td>\n",
       "      <td>0.378</td>\n",
       "      <td>0.346825</td>\n",
       "      <td>0.378</td>\n",
       "      <td>0.344547</td>\n",
       "    </tr>\n",
       "  </tbody>\n",
       "</table>"
      ],
      "text/plain": [
       "<IPython.core.display.HTML object>"
      ]
     },
     "execution_count": 9,
     "metadata": {},
     "output_type": "execute_result"
    }
   ],
   "source": [
    "show_classification_results(classification_results)"
   ]
  },
  {
   "cell_type": "code",
   "execution_count": 12,
   "metadata": {
    "ExecuteTime": {
     "end_time": "2017-05-15T23:33:52.202000",
     "start_time": "2017-05-15T23:33:51.577000"
    }
   },
   "outputs": [
    {
     "data": {
      "image/png": "[encoded data removed]",
      "text/plain": [
       "<matplotlib.figure.Figure at 0x10b1d69e8>"
      ]
     },
     "metadata": {},
     "output_type": "display_data"
    },
    {
     "data": {
      "image/png": "[encoded data removed]",
      "text/plain": [
       "<matplotlib.figure.Figure at 0x10b1c45c0>"
      ]
     },
     "metadata": {},
     "output_type": "display_data"
    },
    {
     "data": {
      "image/png": "[encoded data removed]",
      "text/plain": [
       "<matplotlib.figure.Figure at 0x10b1d4208>"
      ]
     },
     "metadata": {},
     "output_type": "display_data"
    },
    {
     "data": {
      "image/png": "[encoded data removed]",
      "text/plain": [
       "<matplotlib.figure.Figure at 0x10a179cf8>"
      ]
     },
     "metadata": {},
     "output_type": "display_data"
    }
   ],
   "source": [
    "plot_confusion_matrix(classification_results[\"mfcc+ssd\"], label_encoder, \"mfcc+ssd\")\n",
    "plot_confusion_matrix(classification_results[\"ssd\"], label_encoder, \"ssd\")\n",
    "plot_confusion_matrix(classification_results[\"mfcc\"], label_encoder, \"mfcc\")\n",
    "plot_confusion_matrix(classification_results[\"chroma\"], label_encoder, \"chroma\")"
   ]
  },
  {
   "cell_type": "markdown",
   "metadata": {},
   "source": [
    "### Conclusions\n",
    "\n",
    "The top performing classification result is achieved by the combination `MFCC+SSD` with an accuracy of 74%, but the race is tough.\n",
    "`SSD` alone also performes quite similar, closely followed by `MFCC+chroma+SSD`.\n",
    "As the best five feature combinations all contains `SSD`, we can follow, that `SSD` is a crucial feature component for this classification task.\n",
    "See further details in the classification results table above.\n",
    "\n",
    "Below the table we printed four confusion matrices, where you can observe the classificaiton errors per class.\n",
    "The first two show the results for the top performing `MFCC+SSD` and `SSD`.\n",
    "The third one shows the performance of `SSD` alone.\n",
    "The last plot shows, how bad the results get when only `chroma` is used. Some observations:\n",
    "- The biggest confusion is made when classifying rock songs. Only 45 out of 100 rock songs were classified correctly and the other ones are distributed among all other classes, especially into metal, disco, blues and pop. As all of the leading combinations suffered from the same problem, we assume that the distinction between rock and the other classes is just very hard to grasp and it is not the result of a bad feature choice.\n",
    "- For all of the shown combinations, the the classes classical and metal perform best with slightly below 90%.\n",
    "- `MFCC` alone performs not so good. Only classical and metal yield acceptable performance but between all other classes many confusions occur. For many (but not all) of them which use very similar instruments (like e-guitar, drums, bass) the missing rhythm information could be the reason. For others, like disco, which should come with a quite different timbre as well we can't really find a good explanation for the bad result."
   ]
  },
  {
   "cell_type": "markdown",
   "metadata": {},
   "source": [
    "# Similarity Retrieval / Query by example\n",
    "\n",
    "The second part of the assignment focuses on retrieving similar songs to a given example. Content based music similarity can also be defined upon the numeric feature-space. Thus, you will use the extracted music features from the classification experiments, but now you will implement a late fusion approach. The problem with early fusion is that results will skew towards features-sets with higher dimensionality. Late fusion represents a convenient method to overcome this problem by combining the result-spaces instead of the feature-spaces. For each feature first the similarities are calculated separately and then aggregated into a final estimation. Thus, every feature has an equal influence on the final result."
   ]
  },
  {
   "cell_type": "markdown",
   "metadata": {},
   "source": [
    "**Normalization**\n",
    "\n",
    "Just like for the classification experiments the feature-spaces first need to be normalized. \n",
    "\n",
    "* iterate over all feature-sets\n",
    "* use the *StandardScaler* as above, but because there are no train/test-splits, fit the scaler using all instances of a feature-set, and finally perform the transformation\n",
    "* you can overwrite the extracted *audio_features*; their original values are not required further."
   ]
  },
  {
   "cell_type": "code",
   "execution_count": 14,
   "metadata": {},
   "outputs": [
    {
     "name": "stderr",
     "output_type": "stream",
     "text": [
      "  0% |                                                                        |\r",
      " 25% |##################                                                      |\r",
      " 50% |####################################                                    |\r",
      " 75% |######################################################                  |\r",
      "100% |########################################################################|\r\n"
     ]
    }
   ],
   "source": [
    "pbar = progressbar.ProgressBar()\n",
    "\n",
    "audio_features_scaled = {}\n",
    "for feature_name in pbar(FEATURE_NAMES):\n",
    "    \n",
    "    X = audio_features[feature_name]\n",
    "        \n",
    "    # 2.1. Standard Scaling\n",
    "    scaler = StandardScaler()\n",
    "    X_scaled = scaler.fit_transform(X)\n",
    "        \n",
    "    # 3. store the scaled features\n",
    "    audio_features_scaled[feature_name] = X_scaled"
   ]
  },
  {
   "cell_type": "markdown",
   "metadata": {},
   "source": [
    "**Implement a query-by-example system:**\n",
    "\n",
    "* define a *query_id* variable. This represents the index into the feature-space. The feature-vector with the corresponding id will be used to find similar songs.\n",
    "* define a list of feature-set names. This is equivalent to the feature combinations you have implemented for the classification experiments.\n",
    "* define a corresponding list of feature-weights. Usually weights scale from 0.0 to 1.0 and represent the influence of a feature-set on the final result.\n",
    "* for each feature-set of the specified feature-set combination:\n",
    "  * calculate the Eucledian-distance from the query-feature-vector to every other vector of a feature-set:\n",
    "\n",
    "$$\n",
    "\\sqrt{\\sum (audio\\_features[feature\\_name] - audio\\_features[feature\\_name][query\\_id])^{2}}\n",
    "$$\n",
    "\n",
    "  * this will result in a distance value for each feature-vector representing the dis-similarity to the query-vector.\n",
    "  * due to variances in dimensionality and value-ranges these distances vary between the feature-sets. To normalize the impact of a distinct feature-set in a late-fusion approach, you have to normalize each resulting distance-list by dividing it by its maximum value.\n",
    "  * multiply each normalized distance-list with its corresponding feature-weight\n",
    "  * calculate the sum of the weighted distance-lists\n",
    "  * finally, use apply numpy function *argsort* on the final results to get the indexes to the feature-vectors ranked by their ascending summed distances. Thus, the top results have the lowest distance/dis-similarity to the query-vector and are expected to sound similar to the query-song.\n",
    "  * use our provided method to display the retrieval results:\n",
    "  \n",
    "        show_query_results(filenames, labels, ranked_index)\n",
    "      \n",
    "The displayed result-table contains HTML5 audio player tags. Unfortunately, most Internet browsers have a security-lock to prevent Web-pages from referencing or accessing local files. \n",
    "\n",
    "* To enable the playback of the audio-files, open a command-prompt and change to the root directory of the provided dataset (*AUDIO_COLLECTION_PATH*). \n",
    "* start the Python simple web-server on port 5555. This will create a simple web-server which handles requests to the local files:\n",
    "\n",
    "        > python -m SimpleHTTPServer 5555\n",
    "        "
   ]
  },
  {
   "cell_type": "code",
   "execution_count": 35,
   "metadata": {
    "ExecuteTime": {
     "end_time": "2017-05-15T23:42:08.064000",
     "start_time": "2017-05-15T23:42:08.062000"
    }
   },
   "outputs": [
    {
     "name": "stderr",
     "output_type": "stream",
     "text": [
      "100% (1 of 1) |##########################| Elapsed Time: 0:00:00 Time:  0:00:00"
     ]
    },
    {
     "data": {
      "text/html": [
       "<br/><br/><h2>('mfcc', 'chroma')</h2><table border=\"1\" class=\"dataframe\">\n",
       "  <thead>\n",
       "    <tr style=\"text-align: right;\">\n",
       "      <th>rank</th>\n",
       "      <th>index</th>\n",
       "      <th>filename</th>\n",
       "      <th>label</th>\n",
       "      <th>audio</th>\n",
       "    </tr>\n",
       "  </thead>\n",
       "  <tbody>\n",
       "    <tr>\n",
       "      <td>query</td>\n",
       "      <td>0</td>\n",
       "      <td>genres/pop/pop.00080.au</td>\n",
       "      <td>pop</td>\n",
       "      <td><a href=\"http://0.0.0.0:5555/pop/pop.00080.au\" download>Download</a></td>\n",
       "    </tr>\n",
       "    <tr>\n",
       "      <td>1</td>\n",
       "      <td>3</td>\n",
       "      <td>genres/pop/pop.00047.au</td>\n",
       "      <td>pop</td>\n",
       "      <td><a href=\"http://0.0.0.0:5555/pop/pop.00047.au\" download>Download</a></td>\n",
       "    </tr>\n",
       "    <tr>\n",
       "      <td>2</td>\n",
       "      <td>69</td>\n",
       "      <td>genres/pop/pop.00051.au</td>\n",
       "      <td>pop</td>\n",
       "      <td><a href=\"http://0.0.0.0:5555/pop/pop.00051.au\" download>Download</a></td>\n",
       "    </tr>\n",
       "    <tr>\n",
       "      <td>3</td>\n",
       "      <td>84</td>\n",
       "      <td>genres/pop/pop.00044.au</td>\n",
       "      <td>pop</td>\n",
       "      <td><a href=\"http://0.0.0.0:5555/pop/pop.00044.au\" download>Download</a></td>\n",
       "    </tr>\n",
       "    <tr>\n",
       "      <td>4</td>\n",
       "      <td>25</td>\n",
       "      <td>genres/pop/pop.00037.au</td>\n",
       "      <td>pop</td>\n",
       "      <td><a href=\"http://0.0.0.0:5555/pop/pop.00037.au\" download>Download</a></td>\n",
       "    </tr>\n",
       "    <tr>\n",
       "      <td>5</td>\n",
       "      <td>27</td>\n",
       "      <td>genres/pop/pop.00095.au</td>\n",
       "      <td>pop</td>\n",
       "      <td><a href=\"http://0.0.0.0:5555/pop/pop.00095.au\" download>Download</a></td>\n",
       "    </tr>\n",
       "    <tr>\n",
       "      <td>6</td>\n",
       "      <td>13</td>\n",
       "      <td>genres/pop/pop.00077.au</td>\n",
       "      <td>pop</td>\n",
       "      <td><a href=\"http://0.0.0.0:5555/pop/pop.00077.au\" download>Download</a></td>\n",
       "    </tr>\n",
       "    <tr>\n",
       "      <td>7</td>\n",
       "      <td>56</td>\n",
       "      <td>genres/pop/pop.00088.au</td>\n",
       "      <td>pop</td>\n",
       "      <td><a href=\"http://0.0.0.0:5555/pop/pop.00088.au\" download>Download</a></td>\n",
       "    </tr>\n",
       "    <tr>\n",
       "      <td>8</td>\n",
       "      <td>70</td>\n",
       "      <td>genres/pop/pop.00071.au</td>\n",
       "      <td>pop</td>\n",
       "      <td><a href=\"http://0.0.0.0:5555/pop/pop.00071.au\" download>Download</a></td>\n",
       "    </tr>\n",
       "    <tr>\n",
       "      <td>9</td>\n",
       "      <td>16</td>\n",
       "      <td>genres/pop/pop.00067.au</td>\n",
       "      <td>pop</td>\n",
       "      <td><a href=\"http://0.0.0.0:5555/pop/pop.00067.au\" download>Download</a></td>\n",
       "    </tr>\n",
       "  </tbody>\n",
       "</table>"
      ],
      "text/plain": [
       "<IPython.core.display.HTML object>"
      ]
     },
     "metadata": {},
     "output_type": "display_data"
    },
    {
     "name": "stderr",
     "output_type": "stream",
     "text": [
      "100% (1 of 1) |##########################| Elapsed Time: 0:00:00 Time:  0:00:00"
     ]
    },
    {
     "data": {
      "text/html": [
       "<br/><br/><h2>('mfcc', 'chroma')</h2><table border=\"1\" class=\"dataframe\">\n",
       "  <thead>\n",
       "    <tr style=\"text-align: right;\">\n",
       "      <th>rank</th>\n",
       "      <th>index</th>\n",
       "      <th>filename</th>\n",
       "      <th>label</th>\n",
       "      <th>audio</th>\n",
       "    </tr>\n",
       "  </thead>\n",
       "  <tbody>\n",
       "    <tr>\n",
       "      <td>query</td>\n",
       "      <td>0</td>\n",
       "      <td>genres/pop/pop.00080.au</td>\n",
       "      <td>pop</td>\n",
       "      <td><a href=\"http://0.0.0.0:5555/pop/pop.00080.au\" download>Download</a></td>\n",
       "    </tr>\n",
       "    <tr>\n",
       "      <td>1</td>\n",
       "      <td>3</td>\n",
       "      <td>genres/pop/pop.00047.au</td>\n",
       "      <td>pop</td>\n",
       "      <td><a href=\"http://0.0.0.0:5555/pop/pop.00047.au\" download>Download</a></td>\n",
       "    </tr>\n",
       "    <tr>\n",
       "      <td>2</td>\n",
       "      <td>69</td>\n",
       "      <td>genres/pop/pop.00051.au</td>\n",
       "      <td>pop</td>\n",
       "      <td><a href=\"http://0.0.0.0:5555/pop/pop.00051.au\" download>Download</a></td>\n",
       "    </tr>\n",
       "    <tr>\n",
       "      <td>3</td>\n",
       "      <td>84</td>\n",
       "      <td>genres/pop/pop.00044.au</td>\n",
       "      <td>pop</td>\n",
       "      <td><a href=\"http://0.0.0.0:5555/pop/pop.00044.au\" download>Download</a></td>\n",
       "    </tr>\n",
       "    <tr>\n",
       "      <td>4</td>\n",
       "      <td>25</td>\n",
       "      <td>genres/pop/pop.00037.au</td>\n",
       "      <td>pop</td>\n",
       "      <td><a href=\"http://0.0.0.0:5555/pop/pop.00037.au\" download>Download</a></td>\n",
       "    </tr>\n",
       "    <tr>\n",
       "      <td>5</td>\n",
       "      <td>27</td>\n",
       "      <td>genres/pop/pop.00095.au</td>\n",
       "      <td>pop</td>\n",
       "      <td><a href=\"http://0.0.0.0:5555/pop/pop.00095.au\" download>Download</a></td>\n",
       "    </tr>\n",
       "    <tr>\n",
       "      <td>6</td>\n",
       "      <td>13</td>\n",
       "      <td>genres/pop/pop.00077.au</td>\n",
       "      <td>pop</td>\n",
       "      <td><a href=\"http://0.0.0.0:5555/pop/pop.00077.au\" download>Download</a></td>\n",
       "    </tr>\n",
       "    <tr>\n",
       "      <td>7</td>\n",
       "      <td>16</td>\n",
       "      <td>genres/pop/pop.00067.au</td>\n",
       "      <td>pop</td>\n",
       "      <td><a href=\"http://0.0.0.0:5555/pop/pop.00067.au\" download>Download</a></td>\n",
       "    </tr>\n",
       "    <tr>\n",
       "      <td>8</td>\n",
       "      <td>70</td>\n",
       "      <td>genres/pop/pop.00071.au</td>\n",
       "      <td>pop</td>\n",
       "      <td><a href=\"http://0.0.0.0:5555/pop/pop.00071.au\" download>Download</a></td>\n",
       "    </tr>\n",
       "    <tr>\n",
       "      <td>9</td>\n",
       "      <td>56</td>\n",
       "      <td>genres/pop/pop.00088.au</td>\n",
       "      <td>pop</td>\n",
       "      <td><a href=\"http://0.0.0.0:5555/pop/pop.00088.au\" download>Download</a></td>\n",
       "    </tr>\n",
       "  </tbody>\n",
       "</table>"
      ],
      "text/plain": [
       "<IPython.core.display.HTML object>"
      ]
     },
     "metadata": {},
     "output_type": "display_data"
    },
    {
     "name": "stderr",
     "output_type": "stream",
     "text": [
      "100% (1 of 1) |##########################| Elapsed Time: 0:00:00 Time:  0:00:00"
     ]
    },
    {
     "data": {
      "text/html": [
       "<br/><br/><h2>('chroma',)</h2><table border=\"1\" class=\"dataframe\">\n",
       "  <thead>\n",
       "    <tr style=\"text-align: right;\">\n",
       "      <th>rank</th>\n",
       "      <th>index</th>\n",
       "      <th>filename</th>\n",
       "      <th>label</th>\n",
       "      <th>audio</th>\n",
       "    </tr>\n",
       "  </thead>\n",
       "  <tbody>\n",
       "    <tr>\n",
       "      <td>query</td>\n",
       "      <td>0</td>\n",
       "      <td>genres/pop/pop.00080.au</td>\n",
       "      <td>pop</td>\n",
       "      <td><a href=\"http://0.0.0.0:5555/pop/pop.00080.au\" download>Download</a></td>\n",
       "    </tr>\n",
       "    <tr>\n",
       "      <td>1</td>\n",
       "      <td>3</td>\n",
       "      <td>genres/pop/pop.00047.au</td>\n",
       "      <td>pop</td>\n",
       "      <td><a href=\"http://0.0.0.0:5555/pop/pop.00047.au\" download>Download</a></td>\n",
       "    </tr>\n",
       "    <tr>\n",
       "      <td>2</td>\n",
       "      <td>484</td>\n",
       "      <td>genres/reggae/reggae.00057.au</td>\n",
       "      <td>reggae</td>\n",
       "      <td><a href=\"http://0.0.0.0:5555/reggae/reggae.00057.au\" download>Download</a></td>\n",
       "    </tr>\n",
       "    <tr>\n",
       "      <td>3</td>\n",
       "      <td>457</td>\n",
       "      <td>genres/reggae/reggae.00008.au</td>\n",
       "      <td>reggae</td>\n",
       "      <td><a href=\"http://0.0.0.0:5555/reggae/reggae.00008.au\" download>Download</a></td>\n",
       "    </tr>\n",
       "    <tr>\n",
       "      <td>4</td>\n",
       "      <td>69</td>\n",
       "      <td>genres/pop/pop.00051.au</td>\n",
       "      <td>pop</td>\n",
       "      <td><a href=\"http://0.0.0.0:5555/pop/pop.00051.au\" download>Download</a></td>\n",
       "    </tr>\n",
       "    <tr>\n",
       "      <td>5</td>\n",
       "      <td>13</td>\n",
       "      <td>genres/pop/pop.00077.au</td>\n",
       "      <td>pop</td>\n",
       "      <td><a href=\"http://0.0.0.0:5555/pop/pop.00077.au\" download>Download</a></td>\n",
       "    </tr>\n",
       "    <tr>\n",
       "      <td>6</td>\n",
       "      <td>659</td>\n",
       "      <td>genres/rock/rock.00064.au</td>\n",
       "      <td>rock</td>\n",
       "      <td><a href=\"http://0.0.0.0:5555/rock/rock.00064.au\" download>Download</a></td>\n",
       "    </tr>\n",
       "    <tr>\n",
       "      <td>7</td>\n",
       "      <td>25</td>\n",
       "      <td>genres/pop/pop.00037.au</td>\n",
       "      <td>pop</td>\n",
       "      <td><a href=\"http://0.0.0.0:5555/pop/pop.00037.au\" download>Download</a></td>\n",
       "    </tr>\n",
       "    <tr>\n",
       "      <td>8</td>\n",
       "      <td>240</td>\n",
       "      <td>genres/disco/disco.00026.au</td>\n",
       "      <td>disco</td>\n",
       "      <td><a href=\"http://0.0.0.0:5555/disco/disco.00026.au\" download>Download</a></td>\n",
       "    </tr>\n",
       "    <tr>\n",
       "      <td>9</td>\n",
       "      <td>217</td>\n",
       "      <td>genres/disco/disco.00023.au</td>\n",
       "      <td>disco</td>\n",
       "      <td><a href=\"http://0.0.0.0:5555/disco/disco.00023.au\" download>Download</a></td>\n",
       "    </tr>\n",
       "  </tbody>\n",
       "</table>"
      ],
      "text/plain": [
       "<IPython.core.display.HTML object>"
      ]
     },
     "metadata": {},
     "output_type": "display_data"
    },
    {
     "name": "stderr",
     "output_type": "stream",
     "text": [
      "100% (1 of 1) |##########################| Elapsed Time: 0:00:00 Time:  0:00:00"
     ]
    },
    {
     "data": {
      "text/html": [
       "<br/><br/><h2>('ssd', 'rp')</h2><table border=\"1\" class=\"dataframe\">\n",
       "  <thead>\n",
       "    <tr style=\"text-align: right;\">\n",
       "      <th>rank</th>\n",
       "      <th>index</th>\n",
       "      <th>filename</th>\n",
       "      <th>label</th>\n",
       "      <th>audio</th>\n",
       "    </tr>\n",
       "  </thead>\n",
       "  <tbody>\n",
       "    <tr>\n",
       "      <td>query</td>\n",
       "      <td>0</td>\n",
       "      <td>genres/pop/pop.00080.au</td>\n",
       "      <td>pop</td>\n",
       "      <td><a href=\"http://0.0.0.0:5555/pop/pop.00080.au\" download>Download</a></td>\n",
       "    </tr>\n",
       "    <tr>\n",
       "      <td>1</td>\n",
       "      <td>3</td>\n",
       "      <td>genres/pop/pop.00047.au</td>\n",
       "      <td>pop</td>\n",
       "      <td><a href=\"http://0.0.0.0:5555/pop/pop.00047.au\" download>Download</a></td>\n",
       "    </tr>\n",
       "    <tr>\n",
       "      <td>2</td>\n",
       "      <td>69</td>\n",
       "      <td>genres/pop/pop.00051.au</td>\n",
       "      <td>pop</td>\n",
       "      <td><a href=\"http://0.0.0.0:5555/pop/pop.00051.au\" download>Download</a></td>\n",
       "    </tr>\n",
       "    <tr>\n",
       "      <td>3</td>\n",
       "      <td>272</td>\n",
       "      <td>genres/disco/disco.00005.au</td>\n",
       "      <td>disco</td>\n",
       "      <td><a href=\"http://0.0.0.0:5555/disco/disco.00005.au\" download>Download</a></td>\n",
       "    </tr>\n",
       "    <tr>\n",
       "      <td>4</td>\n",
       "      <td>665</td>\n",
       "      <td>genres/rock/rock.00040.au</td>\n",
       "      <td>rock</td>\n",
       "      <td><a href=\"http://0.0.0.0:5555/rock/rock.00040.au\" download>Download</a></td>\n",
       "    </tr>\n",
       "    <tr>\n",
       "      <td>5</td>\n",
       "      <td>383</td>\n",
       "      <td>genres/blues/blues.00074.au</td>\n",
       "      <td>blues</td>\n",
       "      <td><a href=\"http://0.0.0.0:5555/blues/blues.00074.au\" download>Download</a></td>\n",
       "    </tr>\n",
       "    <tr>\n",
       "      <td>6</td>\n",
       "      <td>265</td>\n",
       "      <td>genres/disco/disco.00050.au</td>\n",
       "      <td>disco</td>\n",
       "      <td><a href=\"http://0.0.0.0:5555/disco/disco.00050.au\" download>Download</a></td>\n",
       "    </tr>\n",
       "    <tr>\n",
       "      <td>7</td>\n",
       "      <td>76</td>\n",
       "      <td>genres/pop/pop.00004.au</td>\n",
       "      <td>pop</td>\n",
       "      <td><a href=\"http://0.0.0.0:5555/pop/pop.00004.au\" download>Download</a></td>\n",
       "    </tr>\n",
       "    <tr>\n",
       "      <td>8</td>\n",
       "      <td>836</td>\n",
       "      <td>genres/country/country.00006.au</td>\n",
       "      <td>country</td>\n",
       "      <td><a href=\"http://0.0.0.0:5555/country/country.00006.au\" download>Download</a></td>\n",
       "    </tr>\n",
       "    <tr>\n",
       "      <td>9</td>\n",
       "      <td>443</td>\n",
       "      <td>genres/reggae/reggae.00088.au</td>\n",
       "      <td>reggae</td>\n",
       "      <td><a href=\"http://0.0.0.0:5555/reggae/reggae.00088.au\" download>Download</a></td>\n",
       "    </tr>\n",
       "  </tbody>\n",
       "</table>"
      ],
      "text/plain": [
       "<IPython.core.display.HTML object>"
      ]
     },
     "metadata": {},
     "output_type": "display_data"
    }
   ],
   "source": [
    "# add your code here\n",
    "from IPython.core.display import display, HTML\n",
    "\n",
    "query_id = 0\n",
    "\n",
    "def display_combinations_results(combinations, weightings={}):\n",
    "    pbar = progressbar.ProgressBar()\n",
    "\n",
    "    html = \"<br/><br/>\"\n",
    "\n",
    "    for feature_names in pbar(combinations):\n",
    "\n",
    "        def get_distances(feature_name):\n",
    "            distances = audio_features_scaled[feature_name] - audio_features_scaled[feature_name][query_id]\n",
    "            distances **= 2\n",
    "            distances = distances.sum(axis=1)\n",
    "            distances /= distances.max()\n",
    "            return distances\n",
    "\n",
    "        distances = np.asarray([get_distances(feature_name) * weightings.get(feature_name, 1.0)\n",
    "                                for feature_name in feature_names]).sum(axis=0)\n",
    "\n",
    "        ranked_index = np.argsort(distances)\n",
    "\n",
    "        html += \"<h2>\" + str(feature_names) + \"</h2>\" + show_query_results(filenames, labels, ranked_index)\n",
    "\n",
    "    display(HTML(html))\n",
    "\n",
    "# all combinations without weights\n",
    "# display_combinations_results(combinations)\n",
    "\n",
    "# good performing examples\n",
    "display_combinations_results([('mfcc', 'chroma')])\n",
    "display_combinations_results([('mfcc', 'chroma')],\n",
    "                             weightings={'mfcc': 0.4, 'chroma': 0.6})\n",
    "\n",
    "# bad performing examples\n",
    "display_combinations_results([('chroma', )])\n",
    "display_combinations_results([('ssd', 'rp')])\n"
   ]
  },
  {
   "cell_type": "markdown",
   "metadata": {},
   "source": [
    "* Experiment with different feature-set combinations and feature-weights using different query-songs.\n",
    "* show two good and two bad performing examples using the *show_query_results* function\n",
    "* write a paragraph where you summarize the conclusions of the query-by-example experiments\n",
    "  * which feature-sets are performing best and why?\n",
    "  * listening to the results, what is the perceived quality?\n",
    "    * in which terms do the top-ranked results sound similar\n",
    "    * are there songs that do not fit at all?\n",
    "    * do they at least share some acoustic similarity with the query-song (e.g. rhythm, instrumentation, pitch, etc.)?\n",
    "  * compare the query-by-example precision with the classification confusion-matrix for the corresponding feature-set-combination. Are the top confusions also predominant mismatches within the top-ranked retrieval results?"
   ]
  },
  {
   "cell_type": "markdown",
   "metadata": {},
   "source": [
    "### Conclusions\n",
    "\n",
    "At first we tried all feature-set combinations without weights. So all features have equal weight. We made the following observations.\n",
    "\n",
    "* MFCC: Suggests songs from the same genre. The query song is, however, quite powerful, fast and also changing (foreground) pitch quite fast. The suggested song fit quite well, but most seem more quiet and no song seems to be as powerful and changing pitch as fast as the query song. The rhythmic background seems to be similar, however.\n",
    "\n",
    "* Chroma: Also suggests the same first song like MFCC. Otherwise suggests many songs from different genres which I would not rate as similar. Probably the pitch of those is similar to the query song, but I wouldn't be able to tell.\n",
    "\n",
    "* SSD: Similar to MFCC suggestions with again the same first song and some other overlap. The suggestions feel more quiet though and therefore I would say a bit worse.\n",
    "\n",
    "* RP: Again same first song and another song (20) as overlap. Suggests many songs from different genres, but some seem rhythmically similar and also as powerful (rock 94). One very bad suggestion: hiphop 51.\n",
    "\n",
    "\n",
    "* (MFCC, Chroma): Seems to contain all chroma songs of the same genre. Considers pitch more in suggestions, but stays in same genre. Contains well matching powerful songs 81, 78, 44. Best feature combination up to now. Does not contain well matching song 41 anymore.\n",
    "\n",
    "* (MFCC, SSD): Again only songs from the same genre. Seems to be more quiet than MFCC only though. Contains additional well matching song 42.\n",
    "\n",
    "* (Chroma, SSD): Contains two rock songs which do not fit that well.\n",
    "\n",
    "\n",
    "* (MFC, Chroma, SSD): Similar to (MFCC, Chroma). Also very good suggestions.\n",
    "\n",
    "* (MFCC, RP), (Chroma, RP), (SSD, RP), (MFC, Chroma, RP), (MFC, SSD, RP), (Chroma, SSD, RP): Suggests songs from different genres. Overall not that well matching. Some very bad suggestions from hiphop, metal or country.\n",
    "\n",
    "Generally, we noted that RP and its combinations lead to bad suggestions as well as chroma, although chroma in combination with MFCC seems to work. Based on these findings and especially the good results of the equally weighted combination of (MFCC, Chroma) and (MFC, Chroma, SSD) we decided to use these features and adjust their weightings.\n",
    "\n",
    "As good weighted combination we determined (MFCC, Chroma) with a weighting of (0.4, 0.6). This pushes up the good track with a similar varying pitch (81, 78, 44) but does not yet suggest songs from another genre which happens if the Chroma weighting is increased.\n",
    "\n",
    "Comparing the suggestions with the confusion matrices for the feature combinations, we noticed overlap. For example the best combination (MFCC, Chroma) begins to suggest rock songs also if the weighting of Chroma is too high. Also the bad combination (SSD, RP) has a confusion matrix with high values for rock, disco and metal which corresponds to our suggestions. For (Chroma) on the other hand we did not get any pop suggestions although its confusion matrix value for pop is high."
   ]
  },
  {
   "cell_type": "code",
   "execution_count": null,
   "metadata": {
    "collapsed": true
   },
   "outputs": [],
   "source": []
  }
 ],
 "metadata": {
  "kernelspec": {
   "display_name": "Python 3",
   "language": "python",
   "name": "python3"
  },
  "language_info": {
   "codemirror_mode": {
    "name": "ipython",
    "version": 3
   },
   "file_extension": ".py",
   "mimetype": "text/x-python",
   "name": "python",
   "nbconvert_exporter": "python",
   "pygments_lexer": "ipython3",
   "version": "3.6.4"
  },
  "toc": {
   "toc_cell": false,
   "toc_number_sections": false,
   "toc_section_display": "none",
   "toc_threshold": 6,
   "toc_window_display": true
  }
 },
 "nbformat": 4,
 "nbformat_minor": 2
}
